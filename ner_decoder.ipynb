{
  "nbformat": 4,
  "nbformat_minor": 0,
  "metadata": {
    "colab": {
      "name": "ner-decoder.ipynb",
      "provenance": [],
      "collapsed_sections": [],
      "authorship_tag": "ABX9TyPMFfkFOntYUyfPSWFVDCYg",
      "include_colab_link": true
    },
    "kernelspec": {
      "name": "python3",
      "display_name": "Python 3"
    },
    "accelerator": "GPU"
  },
  "cells": [
    {
      "cell_type": "markdown",
      "metadata": {
        "id": "view-in-github",
        "colab_type": "text"
      },
      "source": [
        "<a href=\"https://colab.research.google.com/github/dasmiq/CS6120-PS3/blob/master/ner_decoder.ipynb\" target=\"_parent\"><img src=\"https://colab.research.google.com/assets/colab-badge.svg\" alt=\"Open In Colab\"/></a>"
      ]
    },
    {
      "cell_type": "markdown",
      "metadata": {
        "id": "IsY0LJOIT_cG",
        "colab_type": "text"
      },
      "source": [
        "# Implementing a Viterbi Decoder and Evaluation for Sequence Labeling\n",
        "\n",
        "In this assignment, you will build a Viterbi decoder for an LSTM named-entity recognition model. As we mentioned in class, recurrent and bidirectional recurrent neural networks, of which LSTMs are the most common examples, can be used to perform sequence labeling. Although these models encode information from the surrounding words in order to make predictions, there are no \"hard\" constraints on what tags can appear where.\n",
        "\n",
        "There hard constraints are particularly important for tasks that label spans of more than one token. The most common example of a span-labeling task is named-entity recognition (NER). As described in Eisenstein, Jurafksy & Martin, and other texts, the goal of NER is to label spans of one or more words as _mentions_ of an _entity_, such as a person, location, organization, etc.\n",
        "\n",
        "The most common approach to NER is to reduce it to a sequence-labeling task, where each token in the input is labeled either with an `O`, if it is \"outside\" any named-entity span, or with `B-TYPE`, if it is the first token in an entity of type `TYPE`, or with `I-TYPE`, if it is the second or later token in an entity of type `TYPE`. Distinguishing between the first and later tokens of an entity allow us to identify distinct entity spans even when they are adjacent.\n",
        "\n",
        "Common values of `TYPE` include `PER` for person, `LOC` for location, `DATE` for date, and so on. In the dataset we load below, there are 17 distinct types.\n",
        "\n",
        "The span-labeling scheme just described implies that the labels on tokens must obey certain constraints: the tag `I-PER` must follow either `B-PER` or another `I-PER`. I cannot follow `O`, `B-LOC`, or `I-LOC`, i.e., a tag for a different entity type. By themselves, LSTMs or bidirectional LSTMs cannot directly enforce these constraints. This is one reason why conditional random fields (CRFs), which _can_ enforce these constraints, are often layered on top of these recurrent models.\n",
        "\n",
        "In this assignment, you will implement the simplest possible CRF: a CRF so simple that it does not require any training. Rather, it will assign weight 1 to any sequence of tags that obeys the constraints and weight 0 to any sequence of tags that violates them. The inputs to the CRF, which are analogous to the emission probabilities in an HMM, will come from an LSTM.\n",
        "\n",
        "But first, in order to test your decoder, you will also implement some functions to evaluate the output of an NER system according to two metrics:\n",
        "1. You will count the number of _violations_ of the NER label constraints, i.e., how many times `I-TYPE` follows `O` or a tag of a different type. This number will be greater than 0 in the raw LSTM output, but should be 0 for your CRF output.\n",
        "1. You will compute the _span-level_ precision, recall, and F1 of NER output. Although the baseline LSTM was trained to achieve high _token-level_ accuracy, this metric can be misleadingly high, since so many tokens are correctly labeled `O`. In other words, what proportion of spans predicted by the model line up exactly with spans in the gold standard, and what proportion of spans in the gold standard were predicted by the model? For more, see the original task definition: https://www.aclweb.org/anthology/W03-0419/.\n",
        "\n",
        "We start with loading some code and data and the describe your tasks in more detail."
      ]
    },
    {
      "cell_type": "markdown",
      "metadata": {
        "id": "Dhnn49QEU_Ik",
        "colab_type": "text"
      },
      "source": [
        "## Set Up Dependencies and Definitions"
      ]
    },
    {
      "cell_type": "code",
      "metadata": {
        "id": "QJINX1MwOLBT",
        "colab_type": "code",
        "outputId": "53d6b23a-96f5-49ca-d6fb-d18becfd76c9",
        "colab": {
          "base_uri": "https://localhost:8080/",
          "height": 1000
        }
      },
      "source": [
        "!pip install --upgrade spacy allennlp\n",
        "import spacy\n",
        "print(spacy.__version__)"
      ],
      "execution_count": 1,
      "outputs": [
        {
          "output_type": "stream",
          "text": [
            "Collecting spacy\n",
            "  Using cached https://files.pythonhosted.org/packages/55/2e/ac00f5c9d01e66cc6ab75eb2a460c9b0dc21ad99a12f810c86a58309e63c/spacy-2.2.4-cp36-cp36m-manylinux1_x86_64.whl\n",
            "Requirement already up-to-date: allennlp in /usr/local/lib/python3.6/dist-packages (0.9.0)\n",
            "Requirement already satisfied, skipping upgrade: murmurhash<1.1.0,>=0.28.0 in /usr/local/lib/python3.6/dist-packages (from spacy) (1.0.2)\n",
            "Requirement already satisfied, skipping upgrade: requests<3.0.0,>=2.13.0 in /usr/local/lib/python3.6/dist-packages (from spacy) (2.21.0)\n",
            "Requirement already satisfied, skipping upgrade: numpy>=1.15.0 in /usr/local/lib/python3.6/dist-packages (from spacy) (1.18.1)\n",
            "Requirement already satisfied, skipping upgrade: wasabi<1.1.0,>=0.4.0 in /usr/local/lib/python3.6/dist-packages (from spacy) (0.6.0)\n",
            "Collecting blis<0.5.0,>=0.4.0\n",
            "  Using cached https://files.pythonhosted.org/packages/41/19/f95c75562d18eb27219df3a3590b911e78d131b68466ad79fdf5847eaac4/blis-0.4.1-cp36-cp36m-manylinux1_x86_64.whl\n",
            "Requirement already satisfied, skipping upgrade: cymem<2.1.0,>=2.0.2 in /usr/local/lib/python3.6/dist-packages (from spacy) (2.0.3)\n",
            "Requirement already satisfied, skipping upgrade: tqdm<5.0.0,>=4.38.0 in /usr/local/lib/python3.6/dist-packages (from spacy) (4.43.0)\n",
            "Requirement already satisfied, skipping upgrade: plac<1.2.0,>=0.9.6 in /usr/local/lib/python3.6/dist-packages (from spacy) (0.9.6)\n",
            "Requirement already satisfied, skipping upgrade: catalogue<1.1.0,>=0.0.7 in /usr/local/lib/python3.6/dist-packages (from spacy) (1.0.0)\n",
            "Collecting preshed<3.1.0,>=3.0.2\n",
            "  Using cached https://files.pythonhosted.org/packages/db/6b/e07fad36913879757c90ba03d6fb7f406f7279e11dcefc105ee562de63ea/preshed-3.0.2-cp36-cp36m-manylinux1_x86_64.whl\n",
            "Requirement already satisfied, skipping upgrade: srsly<1.1.0,>=1.0.2 in /usr/local/lib/python3.6/dist-packages (from spacy) (1.0.2)\n",
            "Collecting thinc==7.4.0\n",
            "  Using cached https://files.pythonhosted.org/packages/73/ed/8e4559f1090fb05c0fa982a8a2caaa315967e7b460652be479d13fd1c813/thinc-7.4.0-cp36-cp36m-manylinux1_x86_64.whl\n",
            "Requirement already satisfied, skipping upgrade: setuptools in /usr/local/lib/python3.6/dist-packages (from spacy) (45.2.0)\n",
            "Requirement already satisfied, skipping upgrade: flaky in /usr/local/lib/python3.6/dist-packages (from allennlp) (3.6.1)\n",
            "Requirement already satisfied, skipping upgrade: unidecode in /usr/local/lib/python3.6/dist-packages (from allennlp) (1.1.1)\n",
            "Requirement already satisfied, skipping upgrade: scipy in /usr/local/lib/python3.6/dist-packages (from allennlp) (1.4.1)\n",
            "Requirement already satisfied, skipping upgrade: torch>=1.2.0 in /usr/local/lib/python3.6/dist-packages (from allennlp) (1.4.0)\n",
            "Requirement already satisfied, skipping upgrade: jsonpickle in /usr/local/lib/python3.6/dist-packages (from allennlp) (1.3)\n",
            "Requirement already satisfied, skipping upgrade: nltk in /usr/local/lib/python3.6/dist-packages (from allennlp) (3.2.5)\n",
            "Requirement already satisfied, skipping upgrade: conllu==1.3.1 in /usr/local/lib/python3.6/dist-packages (from allennlp) (1.3.1)\n",
            "Requirement already satisfied, skipping upgrade: flask>=1.0.2 in /usr/local/lib/python3.6/dist-packages (from allennlp) (1.1.1)\n",
            "Requirement already satisfied, skipping upgrade: boto3 in /usr/local/lib/python3.6/dist-packages (from allennlp) (1.12.18)\n",
            "Requirement already satisfied, skipping upgrade: scikit-learn in /usr/local/lib/python3.6/dist-packages (from allennlp) (0.22.2.post1)\n",
            "Requirement already satisfied, skipping upgrade: word2number>=1.1 in /usr/local/lib/python3.6/dist-packages (from allennlp) (1.1)\n",
            "Requirement already satisfied, skipping upgrade: jsonnet>=0.10.0; sys_platform != \"win32\" in /usr/local/lib/python3.6/dist-packages (from allennlp) (0.15.0)\n",
            "Requirement already satisfied, skipping upgrade: pytorch-transformers==1.1.0 in /usr/local/lib/python3.6/dist-packages (from allennlp) (1.1.0)\n",
            "Requirement already satisfied, skipping upgrade: tensorboardX>=1.2 in /usr/local/lib/python3.6/dist-packages (from allennlp) (2.0)\n",
            "Requirement already satisfied, skipping upgrade: pytest in /usr/local/lib/python3.6/dist-packages (from allennlp) (3.6.4)\n",
            "Requirement already satisfied, skipping upgrade: h5py in /usr/local/lib/python3.6/dist-packages (from allennlp) (2.8.0)\n",
            "Requirement already satisfied, skipping upgrade: responses>=0.7 in /usr/local/lib/python3.6/dist-packages (from allennlp) (0.10.12)\n",
            "Requirement already satisfied, skipping upgrade: numpydoc>=0.8.0 in /usr/local/lib/python3.6/dist-packages (from allennlp) (0.9.2)\n",
            "Requirement already satisfied, skipping upgrade: editdistance in /usr/local/lib/python3.6/dist-packages (from allennlp) (0.5.3)\n",
            "Requirement already satisfied, skipping upgrade: matplotlib>=2.2.3 in /usr/local/lib/python3.6/dist-packages (from allennlp) (3.2.0)\n",
            "Requirement already satisfied, skipping upgrade: overrides in /usr/local/lib/python3.6/dist-packages (from allennlp) (2.8.0)\n",
            "Requirement already satisfied, skipping upgrade: pytorch-pretrained-bert>=0.6.0 in /usr/local/lib/python3.6/dist-packages (from allennlp) (0.6.2)\n",
            "Requirement already satisfied, skipping upgrade: ftfy in /usr/local/lib/python3.6/dist-packages (from allennlp) (5.7)\n",
            "Requirement already satisfied, skipping upgrade: gevent>=1.3.6 in /tensorflow-1.15.0/python3.6 (from allennlp) (1.4.0)\n",
            "Requirement already satisfied, skipping upgrade: flask-cors>=3.0.7 in /usr/local/lib/python3.6/dist-packages (from allennlp) (3.0.8)\n",
            "Requirement already satisfied, skipping upgrade: sqlparse>=0.2.4 in /usr/local/lib/python3.6/dist-packages (from allennlp) (0.3.1)\n",
            "Requirement already satisfied, skipping upgrade: parsimonious>=0.8.0 in /usr/local/lib/python3.6/dist-packages (from allennlp) (0.8.1)\n",
            "Requirement already satisfied, skipping upgrade: pytz>=2017.3 in /usr/local/lib/python3.6/dist-packages (from allennlp) (2018.9)\n",
            "Requirement already satisfied, skipping upgrade: idna<2.9,>=2.5 in /usr/local/lib/python3.6/dist-packages (from requests<3.0.0,>=2.13.0->spacy) (2.8)\n",
            "Requirement already satisfied, skipping upgrade: urllib3<1.25,>=1.21.1 in /usr/local/lib/python3.6/dist-packages (from requests<3.0.0,>=2.13.0->spacy) (1.24.3)\n",
            "Requirement already satisfied, skipping upgrade: certifi>=2017.4.17 in /usr/local/lib/python3.6/dist-packages (from requests<3.0.0,>=2.13.0->spacy) (2019.11.28)\n",
            "Requirement already satisfied, skipping upgrade: chardet<3.1.0,>=3.0.2 in /usr/local/lib/python3.6/dist-packages (from requests<3.0.0,>=2.13.0->spacy) (3.0.4)\n",
            "Requirement already satisfied, skipping upgrade: importlib-metadata>=0.20; python_version < \"3.8\" in /usr/local/lib/python3.6/dist-packages (from catalogue<1.1.0,>=0.0.7->spacy) (1.5.0)\n",
            "Requirement already satisfied, skipping upgrade: six in /usr/local/lib/python3.6/dist-packages (from nltk->allennlp) (1.12.0)\n",
            "Requirement already satisfied, skipping upgrade: Werkzeug>=0.15 in /usr/local/lib/python3.6/dist-packages (from flask>=1.0.2->allennlp) (1.0.0)\n",
            "Requirement already satisfied, skipping upgrade: Jinja2>=2.10.1 in /usr/local/lib/python3.6/dist-packages (from flask>=1.0.2->allennlp) (2.11.1)\n",
            "Requirement already satisfied, skipping upgrade: click>=5.1 in /usr/local/lib/python3.6/dist-packages (from flask>=1.0.2->allennlp) (7.1.1)\n",
            "Requirement already satisfied, skipping upgrade: itsdangerous>=0.24 in /usr/local/lib/python3.6/dist-packages (from flask>=1.0.2->allennlp) (1.1.0)\n",
            "Requirement already satisfied, skipping upgrade: botocore<1.16.0,>=1.15.18 in /usr/local/lib/python3.6/dist-packages (from boto3->allennlp) (1.15.18)\n",
            "Requirement already satisfied, skipping upgrade: s3transfer<0.4.0,>=0.3.0 in /usr/local/lib/python3.6/dist-packages (from boto3->allennlp) (0.3.3)\n",
            "Requirement already satisfied, skipping upgrade: jmespath<1.0.0,>=0.7.1 in /usr/local/lib/python3.6/dist-packages (from boto3->allennlp) (0.9.5)\n",
            "Requirement already satisfied, skipping upgrade: joblib>=0.11 in /usr/local/lib/python3.6/dist-packages (from scikit-learn->allennlp) (0.14.1)\n",
            "Requirement already satisfied, skipping upgrade: sentencepiece in /usr/local/lib/python3.6/dist-packages (from pytorch-transformers==1.1.0->allennlp) (0.1.85)\n",
            "Requirement already satisfied, skipping upgrade: regex in /usr/local/lib/python3.6/dist-packages (from pytorch-transformers==1.1.0->allennlp) (2019.12.20)\n",
            "Requirement already satisfied, skipping upgrade: protobuf>=3.8.0 in /usr/local/lib/python3.6/dist-packages (from tensorboardX>=1.2->allennlp) (3.10.0)\n",
            "Requirement already satisfied, skipping upgrade: attrs>=17.4.0 in /usr/local/lib/python3.6/dist-packages (from pytest->allennlp) (19.3.0)\n",
            "Requirement already satisfied, skipping upgrade: atomicwrites>=1.0 in /usr/local/lib/python3.6/dist-packages (from pytest->allennlp) (1.3.0)\n",
            "Requirement already satisfied, skipping upgrade: pluggy<0.8,>=0.5 in /usr/local/lib/python3.6/dist-packages (from pytest->allennlp) (0.7.1)\n",
            "Requirement already satisfied, skipping upgrade: py>=1.5.0 in /usr/local/lib/python3.6/dist-packages (from pytest->allennlp) (1.8.1)\n",
            "Requirement already satisfied, skipping upgrade: more-itertools>=4.0.0 in /usr/local/lib/python3.6/dist-packages (from pytest->allennlp) (8.2.0)\n",
            "Requirement already satisfied, skipping upgrade: sphinx>=1.6.5 in /usr/local/lib/python3.6/dist-packages (from numpydoc>=0.8.0->allennlp) (1.8.5)\n",
            "Requirement already satisfied, skipping upgrade: pyparsing!=2.0.4,!=2.1.2,!=2.1.6,>=2.0.1 in /usr/local/lib/python3.6/dist-packages (from matplotlib>=2.2.3->allennlp) (2.4.6)\n",
            "Requirement already satisfied, skipping upgrade: kiwisolver>=1.0.1 in /usr/local/lib/python3.6/dist-packages (from matplotlib>=2.2.3->allennlp) (1.1.0)\n",
            "Requirement already satisfied, skipping upgrade: python-dateutil>=2.1 in /usr/local/lib/python3.6/dist-packages (from matplotlib>=2.2.3->allennlp) (2.8.1)\n",
            "Requirement already satisfied, skipping upgrade: cycler>=0.10 in /usr/local/lib/python3.6/dist-packages (from matplotlib>=2.2.3->allennlp) (0.10.0)\n",
            "Requirement already satisfied, skipping upgrade: wcwidth in /usr/local/lib/python3.6/dist-packages (from ftfy->allennlp) (0.1.8)\n",
            "Requirement already satisfied, skipping upgrade: greenlet>=0.4.14; platform_python_implementation == \"CPython\" in /tensorflow-1.15.0/python3.6 (from gevent>=1.3.6->allennlp) (0.4.15)\n",
            "Requirement already satisfied, skipping upgrade: zipp>=0.5 in /usr/local/lib/python3.6/dist-packages (from importlib-metadata>=0.20; python_version < \"3.8\"->catalogue<1.1.0,>=0.0.7->spacy) (3.1.0)\n",
            "Requirement already satisfied, skipping upgrade: MarkupSafe>=0.23 in /usr/local/lib/python3.6/dist-packages (from Jinja2>=2.10.1->flask>=1.0.2->allennlp) (1.1.1)\n",
            "Requirement already satisfied, skipping upgrade: docutils<0.16,>=0.10 in /usr/local/lib/python3.6/dist-packages (from botocore<1.16.0,>=1.15.18->boto3->allennlp) (0.15.2)\n",
            "Requirement already satisfied, skipping upgrade: sphinxcontrib-websupport in /usr/local/lib/python3.6/dist-packages (from sphinx>=1.6.5->numpydoc>=0.8.0->allennlp) (1.2.0)\n",
            "Requirement already satisfied, skipping upgrade: Pygments>=2.0 in /usr/local/lib/python3.6/dist-packages (from sphinx>=1.6.5->numpydoc>=0.8.0->allennlp) (2.1.3)\n",
            "Requirement already satisfied, skipping upgrade: packaging in /usr/local/lib/python3.6/dist-packages (from sphinx>=1.6.5->numpydoc>=0.8.0->allennlp) (20.3)\n",
            "Requirement already satisfied, skipping upgrade: babel!=2.0,>=1.3 in /usr/local/lib/python3.6/dist-packages (from sphinx>=1.6.5->numpydoc>=0.8.0->allennlp) (2.8.0)\n",
            "Requirement already satisfied, skipping upgrade: snowballstemmer>=1.1 in /usr/local/lib/python3.6/dist-packages (from sphinx>=1.6.5->numpydoc>=0.8.0->allennlp) (2.0.0)\n",
            "Requirement already satisfied, skipping upgrade: alabaster<0.8,>=0.7 in /usr/local/lib/python3.6/dist-packages (from sphinx>=1.6.5->numpydoc>=0.8.0->allennlp) (0.7.12)\n",
            "Requirement already satisfied, skipping upgrade: imagesize in /usr/local/lib/python3.6/dist-packages (from sphinx>=1.6.5->numpydoc>=0.8.0->allennlp) (1.2.0)\n",
            "\u001b[31mERROR: allennlp 0.9.0 has requirement spacy<2.2,>=2.1.0, but you'll have spacy 2.2.4 which is incompatible.\u001b[0m\n",
            "Installing collected packages: blis, preshed, thinc, spacy\n",
            "  Found existing installation: blis 0.2.4\n",
            "    Uninstalling blis-0.2.4:\n",
            "      Successfully uninstalled blis-0.2.4\n",
            "  Found existing installation: preshed 2.0.1\n",
            "    Uninstalling preshed-2.0.1:\n",
            "      Successfully uninstalled preshed-2.0.1\n",
            "  Found existing installation: thinc 7.0.8\n",
            "    Uninstalling thinc-7.0.8:\n",
            "      Successfully uninstalled thinc-7.0.8\n",
            "  Found existing installation: spacy 2.1.9\n",
            "    Uninstalling spacy-2.1.9:\n",
            "      Successfully uninstalled spacy-2.1.9\n",
            "Successfully installed blis-0.4.1 preshed-3.0.2 spacy-2.2.4 thinc-7.4.0\n",
            "2.2.4\n"
          ],
          "name": "stdout"
        }
      ]
    },
    {
      "cell_type": "code",
      "metadata": {
        "id": "f4zJfaIlJ2bv",
        "colab_type": "code",
        "outputId": "0387bacd-c119-4bca-c483-4481f6c62cb8",
        "colab": {
          "base_uri": "https://localhost:8080/",
          "height": 34
        }
      },
      "source": [
        "from typing import Iterator, List, Dict\n",
        "import torch\n",
        "import torch.optim as optim\n",
        "import numpy as np\n",
        "from allennlp.data import Instance\n",
        "from allennlp.data.fields import TextField, SequenceLabelField\n",
        "from allennlp.data.dataset_readers import DatasetReader\n",
        "from allennlp.common.file_utils import cached_path\n",
        "from allennlp.data.token_indexers import TokenIndexer, SingleIdTokenIndexer\n",
        "from allennlp.data.tokenizers import Token\n",
        "from allennlp.data.vocabulary import Vocabulary\n",
        "from allennlp.models import Model\n",
        "from allennlp.modules.text_field_embedders import TextFieldEmbedder, BasicTextFieldEmbedder\n",
        "from allennlp.modules.token_embedders import Embedding\n",
        "from allennlp.modules.seq2seq_encoders import Seq2SeqEncoder, PytorchSeq2SeqWrapper\n",
        "from allennlp.nn.util import get_text_field_mask, sequence_cross_entropy_with_logits\n",
        "from allennlp.training.metrics import CategoricalAccuracy\n",
        "from allennlp.data.iterators import BucketIterator\n",
        "from allennlp.training.trainer import Trainer\n",
        "from allennlp.predictors import SentenceTaggerPredictor\n",
        "from allennlp.data.dataset_readers import conll2003\n",
        "\n",
        "torch.manual_seed(1)"
      ],
      "execution_count": 4,
      "outputs": [
        {
          "output_type": "execute_result",
          "data": {
            "text/plain": [
              "<torch._C.Generator at 0x7f0c771d1110>"
            ]
          },
          "metadata": {
            "tags": []
          },
          "execution_count": 4
        }
      ]
    },
    {
      "cell_type": "code",
      "metadata": {
        "id": "Qo16Ko0Gchxk",
        "colab_type": "code",
        "colab": {}
      },
      "source": [
        "class LstmTagger(Model):\n",
        "  def __init__(self,\n",
        "               word_embeddings: TextFieldEmbedder,\n",
        "               encoder: Seq2SeqEncoder,\n",
        "               vocab: Vocabulary) -> None:\n",
        "    super().__init__(vocab)\n",
        "    self.word_embeddings = word_embeddings\n",
        "    self.encoder = encoder\n",
        "    self.hidden2tag = torch.nn.Linear(in_features=encoder.get_output_dim(),\n",
        "                                      out_features=vocab.get_vocab_size('labels'))\n",
        "    self.accuracy = CategoricalAccuracy()\n",
        "\n",
        "  def forward(self,\n",
        "              tokens: Dict[str, torch.Tensor],\n",
        "              metadata,\n",
        "              tags: torch.Tensor = None) -> Dict[str, torch.Tensor]:\n",
        "    mask = get_text_field_mask(tokens)\n",
        "    embeddings = self.word_embeddings(tokens)\n",
        "    encoder_out = self.encoder(embeddings, mask)\n",
        "    tag_logits = self.hidden2tag(encoder_out)\n",
        "    output = {\"tag_logits\": tag_logits}\n",
        "    if tags is not None:\n",
        "      self.accuracy(tag_logits, tags, mask)\n",
        "      output[\"loss\"] = sequence_cross_entropy_with_logits(tag_logits, tags, mask)\n",
        "\n",
        "    return output\n",
        "\n",
        "  def get_metrics(self, reset: bool = False) -> Dict[str, float]:\n",
        "    return {\"accuracy\": self.accuracy.get_metric(reset)}"
      ],
      "execution_count": 0,
      "outputs": []
    },
    {
      "cell_type": "markdown",
      "metadata": {
        "id": "mVdKvPftVVLt",
        "colab_type": "text"
      },
      "source": [
        "## Import Data"
      ]
    },
    {
      "cell_type": "code",
      "metadata": {
        "id": "5sOVVZslKm3N",
        "colab_type": "code",
        "colab": {
          "base_uri": "https://localhost:8080/",
          "height": 68
        },
        "outputId": "9c31f4a9-642a-4469-e5d5-489cc4a82283"
      },
      "source": [
        "reader = conll2003.Conll2003DatasetReader()\n",
        "train_dataset = reader.read(cached_path('http://www.ccs.neu.edu/home/dasmith/onto.train.ner.sample'))\n",
        "validation_dataset = reader.read(cached_path('http://www.ccs.neu.edu/home/dasmith/onto.development.ner.sample'))\n",
        "\n",
        "vocab = Vocabulary.from_instances(train_dataset + validation_dataset)"
      ],
      "execution_count": 6,
      "outputs": [
        {
          "output_type": "stream",
          "text": [
            "562it [00:00, 4526.62it/s]\n",
            "23it [00:00, 7633.85it/s]\n",
            "100%|██████████| 585/585 [00:00<00:00, 59386.40it/s]\n"
          ],
          "name": "stderr"
        }
      ]
    },
    {
      "cell_type": "markdown",
      "metadata": {
        "id": "wpg2Udr-Vnwm",
        "colab_type": "text"
      },
      "source": [
        "## Define and Train Model"
      ]
    },
    {
      "cell_type": "code",
      "metadata": {
        "id": "8kDQQBMywdKx",
        "colab_type": "code",
        "colab": {
          "base_uri": "https://localhost:8080/",
          "height": 1000
        },
        "outputId": "bd7044c7-6fe7-488e-c8d9-e187c67fbd4a"
      },
      "source": [
        "EMBEDDING_DIM = 6\n",
        "HIDDEN_DIM = 6\n",
        "token_embedding = Embedding(num_embeddings=vocab.get_vocab_size('tokens'),\n",
        "                            embedding_dim=EMBEDDING_DIM)\n",
        "word_embeddings = BasicTextFieldEmbedder({\"tokens\": token_embedding})\n",
        "lstm = PytorchSeq2SeqWrapper(torch.nn.LSTM(EMBEDDING_DIM, HIDDEN_DIM, bidirectional=False, batch_first=True))\n",
        "model = LstmTagger(word_embeddings, lstm, vocab)\n",
        "if torch.cuda.is_available():\n",
        "    cuda_device = 0\n",
        "    model = model.cuda(cuda_device)\n",
        "else:\n",
        "    cuda_device = -1\n",
        "# optimizer = optim.AdamW(model.parameters(), lr=1e-4, eps=1e-8)\n",
        "optimizer = optim.SGD(model.parameters(), lr=0.1)\n",
        "iterator = BucketIterator(batch_size=2, sorting_keys=[(\"tokens\", \"num_tokens\")])\n",
        "iterator.index_with(vocab)\n",
        "trainer = Trainer(model=model,\n",
        "                  optimizer=optimizer,\n",
        "                  iterator=iterator,\n",
        "                  train_dataset=train_dataset,\n",
        "                  validation_dataset=validation_dataset,\n",
        "                  patience=10,\n",
        "                  num_epochs=100,\n",
        "                  cuda_device=cuda_device)\n",
        "trainer.train()"
      ],
      "execution_count": 7,
      "outputs": [
        {
          "output_type": "stream",
          "text": [
            "accuracy: 0.8442, loss: 0.9077 ||: 100%|██████████| 281/281 [00:01<00:00, 219.04it/s]\n",
            "accuracy: 0.7878, loss: 1.1872 ||: 100%|██████████| 12/12 [00:00<00:00, 416.46it/s]\n",
            "accuracy: 0.8442, loss: 0.7300 ||: 100%|██████████| 281/281 [00:01<00:00, 228.97it/s]\n",
            "accuracy: 0.7878, loss: 1.1791 ||: 100%|██████████| 12/12 [00:00<00:00, 414.31it/s]\n",
            "accuracy: 0.8442, loss: 0.7165 ||: 100%|██████████| 281/281 [00:01<00:00, 227.52it/s]\n",
            "accuracy: 0.7878, loss: 1.1804 ||: 100%|██████████| 12/12 [00:00<00:00, 420.72it/s]\n",
            "accuracy: 0.8442, loss: 0.7066 ||: 100%|██████████| 281/281 [00:01<00:00, 226.55it/s]\n",
            "accuracy: 0.7878, loss: 1.1674 ||: 100%|██████████| 12/12 [00:00<00:00, 417.81it/s]\n",
            "accuracy: 0.8442, loss: 0.6984 ||: 100%|██████████| 281/281 [00:01<00:00, 225.00it/s]\n",
            "accuracy: 0.7878, loss: 1.1584 ||: 100%|██████████| 12/12 [00:00<00:00, 403.75it/s]\n",
            "accuracy: 0.8442, loss: 0.6901 ||: 100%|██████████| 281/281 [00:01<00:00, 236.56it/s]\n",
            "accuracy: 0.7878, loss: 1.1701 ||: 100%|██████████| 12/12 [00:00<00:00, 407.85it/s]\n",
            "accuracy: 0.8442, loss: 0.6810 ||: 100%|██████████| 281/281 [00:01<00:00, 233.77it/s]\n",
            "accuracy: 0.7878, loss: 1.1473 ||: 100%|██████████| 12/12 [00:00<00:00, 411.74it/s]\n",
            "accuracy: 0.8442, loss: 0.6701 ||: 100%|██████████| 281/281 [00:01<00:00, 230.79it/s]\n",
            "accuracy: 0.7878, loss: 1.1244 ||: 100%|██████████| 12/12 [00:00<00:00, 397.14it/s]\n",
            "accuracy: 0.8442, loss: 0.6558 ||: 100%|██████████| 281/281 [00:01<00:00, 230.66it/s]\n",
            "accuracy: 0.7878, loss: 1.0971 ||: 100%|██████████| 12/12 [00:00<00:00, 370.22it/s]\n",
            "accuracy: 0.8442, loss: 0.6382 ||: 100%|██████████| 281/281 [00:01<00:00, 230.55it/s]\n",
            "accuracy: 0.7878, loss: 1.0881 ||: 100%|██████████| 12/12 [00:00<00:00, 366.47it/s]\n",
            "accuracy: 0.8442, loss: 0.6127 ||: 100%|██████████| 281/281 [00:01<00:00, 229.21it/s]\n",
            "accuracy: 0.7878, loss: 1.0518 ||: 100%|██████████| 12/12 [00:00<00:00, 437.85it/s]\n",
            "accuracy: 0.8442, loss: 0.5779 ||: 100%|██████████| 281/281 [00:01<00:00, 232.15it/s]\n",
            "accuracy: 0.7878, loss: 0.9832 ||: 100%|██████████| 12/12 [00:00<00:00, 426.23it/s]\n",
            "accuracy: 0.8463, loss: 0.5411 ||: 100%|██████████| 281/281 [00:01<00:00, 231.52it/s]\n",
            "accuracy: 0.7878, loss: 0.9034 ||: 100%|██████████| 12/12 [00:00<00:00, 431.72it/s]\n",
            "accuracy: 0.8552, loss: 0.5007 ||: 100%|██████████| 281/281 [00:01<00:00, 235.06it/s]\n",
            "accuracy: 0.7878, loss: 0.8632 ||: 100%|██████████| 12/12 [00:00<00:00, 367.38it/s]\n",
            "accuracy: 0.8593, loss: 0.4702 ||: 100%|██████████| 281/281 [00:01<00:00, 225.44it/s]\n",
            "accuracy: 0.7878, loss: 0.8266 ||: 100%|██████████| 12/12 [00:00<00:00, 397.15it/s]\n",
            "accuracy: 0.8601, loss: 0.4472 ||: 100%|██████████| 281/281 [00:01<00:00, 229.07it/s]\n",
            "accuracy: 0.7878, loss: 0.8432 ||: 100%|██████████| 12/12 [00:00<00:00, 417.92it/s]\n",
            "accuracy: 0.8609, loss: 0.4298 ||: 100%|██████████| 281/281 [00:01<00:00, 231.53it/s]\n",
            "accuracy: 0.7939, loss: 0.7901 ||: 100%|██████████| 12/12 [00:00<00:00, 417.17it/s]\n",
            "accuracy: 0.8621, loss: 0.4164 ||: 100%|██████████| 281/281 [00:01<00:00, 227.62it/s]\n",
            "accuracy: 0.7939, loss: 0.7628 ||: 100%|██████████| 12/12 [00:00<00:00, 429.15it/s]\n",
            "accuracy: 0.8623, loss: 0.4056 ||: 100%|██████████| 281/281 [00:01<00:00, 236.42it/s]\n",
            "accuracy: 0.7939, loss: 0.7559 ||: 100%|██████████| 12/12 [00:00<00:00, 456.20it/s]\n",
            "accuracy: 0.8629, loss: 0.3976 ||: 100%|██████████| 281/281 [00:01<00:00, 231.74it/s]\n",
            "accuracy: 0.7939, loss: 0.7458 ||: 100%|██████████| 12/12 [00:00<00:00, 429.31it/s]\n",
            "accuracy: 0.8629, loss: 0.3911 ||: 100%|██████████| 281/281 [00:01<00:00, 233.11it/s]\n",
            "accuracy: 0.7939, loss: 0.7331 ||: 100%|██████████| 12/12 [00:00<00:00, 353.39it/s]\n",
            "accuracy: 0.8651, loss: 0.3851 ||: 100%|██████████| 281/281 [00:01<00:00, 232.72it/s]\n",
            "accuracy: 0.7939, loss: 0.7362 ||: 100%|██████████| 12/12 [00:00<00:00, 370.49it/s]\n",
            "accuracy: 0.8647, loss: 0.3815 ||: 100%|██████████| 281/281 [00:01<00:00, 227.53it/s]\n",
            "accuracy: 0.7939, loss: 0.7544 ||: 100%|██████████| 12/12 [00:00<00:00, 374.94it/s]\n",
            "accuracy: 0.8655, loss: 0.3768 ||: 100%|██████████| 281/281 [00:01<00:00, 234.04it/s]\n",
            "accuracy: 0.7939, loss: 0.7312 ||: 100%|██████████| 12/12 [00:00<00:00, 414.32it/s]\n",
            "accuracy: 0.8651, loss: 0.3746 ||: 100%|██████████| 281/281 [00:01<00:00, 234.72it/s]\n",
            "accuracy: 0.7959, loss: 0.7148 ||: 100%|██████████| 12/12 [00:00<00:00, 418.19it/s]\n",
            "accuracy: 0.8660, loss: 0.3723 ||: 100%|██████████| 281/281 [00:01<00:00, 225.28it/s]\n",
            "accuracy: 0.7959, loss: 0.7180 ||: 100%|██████████| 12/12 [00:00<00:00, 407.56it/s]\n",
            "accuracy: 0.8682, loss: 0.3656 ||: 100%|██████████| 281/281 [00:01<00:00, 227.38it/s]\n",
            "accuracy: 0.8000, loss: 0.6919 ||: 100%|██████████| 12/12 [00:00<00:00, 417.24it/s]\n",
            "accuracy: 0.8701, loss: 0.3607 ||: 100%|██████████| 281/281 [00:01<00:00, 229.42it/s]\n",
            "accuracy: 0.8041, loss: 0.6831 ||: 100%|██████████| 12/12 [00:00<00:00, 404.61it/s]\n",
            "accuracy: 0.8705, loss: 0.3582 ||: 100%|██████████| 281/281 [00:01<00:00, 225.72it/s]\n",
            "accuracy: 0.7939, loss: 0.7166 ||: 100%|██████████| 12/12 [00:00<00:00, 412.28it/s]\n",
            "accuracy: 0.8723, loss: 0.3545 ||: 100%|██████████| 281/281 [00:01<00:00, 230.94it/s]\n",
            "accuracy: 0.8020, loss: 0.6841 ||: 100%|██████████| 12/12 [00:00<00:00, 410.88it/s]\n",
            "accuracy: 0.8720, loss: 0.3513 ||: 100%|██████████| 281/281 [00:01<00:00, 224.15it/s]\n",
            "accuracy: 0.7980, loss: 0.6738 ||: 100%|██████████| 12/12 [00:00<00:00, 398.14it/s]\n",
            "accuracy: 0.8741, loss: 0.3483 ||: 100%|██████████| 281/281 [00:01<00:00, 234.65it/s]\n",
            "accuracy: 0.8061, loss: 0.6573 ||: 100%|██████████| 12/12 [00:00<00:00, 405.38it/s]\n",
            "accuracy: 0.8752, loss: 0.3439 ||: 100%|██████████| 281/281 [00:01<00:00, 232.58it/s]\n",
            "accuracy: 0.8020, loss: 0.6639 ||: 100%|██████████| 12/12 [00:00<00:00, 418.50it/s]\n",
            "accuracy: 0.8743, loss: 0.3434 ||: 100%|██████████| 281/281 [00:01<00:00, 229.23it/s]\n",
            "accuracy: 0.8102, loss: 0.6714 ||: 100%|██████████| 12/12 [00:00<00:00, 447.35it/s]\n",
            "accuracy: 0.8777, loss: 0.3407 ||: 100%|██████████| 281/281 [00:01<00:00, 229.74it/s]\n",
            "accuracy: 0.8122, loss: 0.6673 ||: 100%|██████████| 12/12 [00:00<00:00, 405.36it/s]\n",
            "accuracy: 0.8780, loss: 0.3361 ||: 100%|██████████| 281/281 [00:01<00:00, 238.66it/s]\n",
            "accuracy: 0.8122, loss: 0.6503 ||: 100%|██████████| 12/12 [00:00<00:00, 396.26it/s]\n",
            "accuracy: 0.8782, loss: 0.3328 ||: 100%|██████████| 281/281 [00:01<00:00, 234.06it/s]\n",
            "accuracy: 0.8122, loss: 0.6649 ||: 100%|██████████| 12/12 [00:00<00:00, 392.30it/s]\n",
            "accuracy: 0.8805, loss: 0.3323 ||: 100%|██████████| 281/281 [00:01<00:00, 230.89it/s]\n",
            "accuracy: 0.8163, loss: 0.6457 ||: 100%|██████████| 12/12 [00:00<00:00, 414.39it/s]\n",
            "accuracy: 0.8798, loss: 0.3293 ||: 100%|██████████| 281/281 [00:01<00:00, 227.48it/s]\n",
            "accuracy: 0.8245, loss: 0.6323 ||: 100%|██████████| 12/12 [00:00<00:00, 397.92it/s]\n",
            "accuracy: 0.8788, loss: 0.3248 ||: 100%|██████████| 281/281 [00:01<00:00, 236.99it/s]\n",
            "accuracy: 0.8204, loss: 0.6380 ||: 100%|██████████| 12/12 [00:00<00:00, 417.31it/s]\n",
            "accuracy: 0.8812, loss: 0.3245 ||: 100%|██████████| 281/281 [00:01<00:00, 231.35it/s]\n",
            "accuracy: 0.8265, loss: 0.6278 ||: 100%|██████████| 12/12 [00:00<00:00, 416.47it/s]\n",
            "accuracy: 0.8837, loss: 0.3209 ||: 100%|██████████| 281/281 [00:01<00:00, 231.35it/s]\n",
            "accuracy: 0.8286, loss: 0.6319 ||: 100%|██████████| 12/12 [00:00<00:00, 425.39it/s]\n",
            "accuracy: 0.8834, loss: 0.3211 ||: 100%|██████████| 281/281 [00:01<00:00, 235.39it/s]\n",
            "accuracy: 0.8367, loss: 0.6229 ||: 100%|██████████| 12/12 [00:00<00:00, 428.50it/s]\n",
            "accuracy: 0.8866, loss: 0.3166 ||: 100%|██████████| 281/281 [00:01<00:00, 234.56it/s]\n",
            "accuracy: 0.8327, loss: 0.6348 ||: 100%|██████████| 12/12 [00:00<00:00, 367.52it/s]\n",
            "accuracy: 0.8883, loss: 0.3156 ||: 100%|██████████| 281/281 [00:01<00:00, 234.40it/s]\n",
            "accuracy: 0.8327, loss: 0.6185 ||: 100%|██████████| 12/12 [00:00<00:00, 414.47it/s]\n",
            "accuracy: 0.8867, loss: 0.3137 ||: 100%|██████████| 281/281 [00:01<00:00, 235.57it/s]\n",
            "accuracy: 0.8306, loss: 0.6162 ||: 100%|██████████| 12/12 [00:00<00:00, 437.43it/s]\n",
            "accuracy: 0.8893, loss: 0.3108 ||: 100%|██████████| 281/281 [00:01<00:00, 235.04it/s]\n",
            "accuracy: 0.8388, loss: 0.5967 ||: 100%|██████████| 12/12 [00:00<00:00, 398.34it/s]\n",
            "accuracy: 0.8905, loss: 0.3077 ||: 100%|██████████| 281/281 [00:01<00:00, 238.54it/s]\n",
            "accuracy: 0.8327, loss: 0.6180 ||: 100%|██████████| 12/12 [00:00<00:00, 416.27it/s]\n",
            "accuracy: 0.8926, loss: 0.3044 ||: 100%|██████████| 281/281 [00:01<00:00, 235.62it/s]\n",
            "accuracy: 0.8265, loss: 0.6416 ||: 100%|██████████| 12/12 [00:00<00:00, 431.02it/s]\n",
            "accuracy: 0.8909, loss: 0.3064 ||: 100%|██████████| 281/281 [00:01<00:00, 231.44it/s]\n",
            "accuracy: 0.8367, loss: 0.5989 ||: 100%|██████████| 12/12 [00:00<00:00, 451.14it/s]\n",
            "accuracy: 0.8932, loss: 0.3008 ||: 100%|██████████| 281/281 [00:01<00:00, 236.86it/s]\n",
            "accuracy: 0.8388, loss: 0.5799 ||: 100%|██████████| 12/12 [00:00<00:00, 407.23it/s]\n",
            "accuracy: 0.8929, loss: 0.2989 ||: 100%|██████████| 281/281 [00:01<00:00, 237.76it/s]\n",
            "accuracy: 0.8490, loss: 0.5799 ||: 100%|██████████| 12/12 [00:00<00:00, 435.41it/s]\n",
            "accuracy: 0.8954, loss: 0.2940 ||: 100%|██████████| 281/281 [00:01<00:00, 237.23it/s]\n",
            "accuracy: 0.8367, loss: 0.5871 ||: 100%|██████████| 12/12 [00:00<00:00, 368.58it/s]\n",
            "accuracy: 0.8965, loss: 0.2925 ||: 100%|██████████| 281/281 [00:01<00:00, 234.95it/s]\n",
            "accuracy: 0.8531, loss: 0.5655 ||: 100%|██████████| 12/12 [00:00<00:00, 430.93it/s]\n",
            "accuracy: 0.8957, loss: 0.2899 ||: 100%|██████████| 281/281 [00:01<00:00, 238.45it/s]\n",
            "accuracy: 0.8408, loss: 0.5675 ||: 100%|██████████| 12/12 [00:00<00:00, 443.10it/s]\n",
            "accuracy: 0.8987, loss: 0.2877 ||: 100%|██████████| 281/281 [00:01<00:00, 239.15it/s]\n",
            "accuracy: 0.8469, loss: 0.5769 ||: 100%|██████████| 12/12 [00:00<00:00, 447.68it/s]\n",
            "accuracy: 0.8972, loss: 0.2874 ||: 100%|██████████| 281/281 [00:01<00:00, 237.44it/s]\n",
            "accuracy: 0.8531, loss: 0.5547 ||: 100%|██████████| 12/12 [00:00<00:00, 396.88it/s]\n",
            "accuracy: 0.8994, loss: 0.2851 ||: 100%|██████████| 281/281 [00:01<00:00, 241.66it/s]\n",
            "accuracy: 0.8531, loss: 0.5617 ||: 100%|██████████| 12/12 [00:00<00:00, 418.04it/s]\n",
            "accuracy: 0.9008, loss: 0.2811 ||: 100%|██████████| 281/281 [00:01<00:00, 236.43it/s]\n",
            "accuracy: 0.8551, loss: 0.5433 ||: 100%|██████████| 12/12 [00:00<00:00, 425.90it/s]\n",
            "accuracy: 0.9019, loss: 0.2792 ||: 100%|██████████| 281/281 [00:01<00:00, 244.75it/s]\n",
            "accuracy: 0.8531, loss: 0.5626 ||: 100%|██████████| 12/12 [00:00<00:00, 423.34it/s]\n",
            "accuracy: 0.9034, loss: 0.2743 ||: 100%|██████████| 281/281 [00:01<00:00, 236.26it/s]\n",
            "accuracy: 0.8551, loss: 0.5285 ||: 100%|██████████| 12/12 [00:00<00:00, 454.07it/s]\n",
            "accuracy: 0.9038, loss: 0.2722 ||: 100%|██████████| 281/281 [00:01<00:00, 231.73it/s]\n",
            "accuracy: 0.8531, loss: 0.5304 ||: 100%|██████████| 12/12 [00:00<00:00, 422.86it/s]\n",
            "accuracy: 0.9024, loss: 0.2704 ||: 100%|██████████| 281/281 [00:01<00:00, 227.80it/s]\n",
            "accuracy: 0.8612, loss: 0.5324 ||: 100%|██████████| 12/12 [00:00<00:00, 411.29it/s]\n",
            "accuracy: 0.9044, loss: 0.2662 ||: 100%|██████████| 281/281 [00:01<00:00, 231.84it/s]\n",
            "accuracy: 0.8612, loss: 0.5092 ||: 100%|██████████| 12/12 [00:00<00:00, 421.81it/s]\n",
            "accuracy: 0.9053, loss: 0.2640 ||: 100%|██████████| 281/281 [00:01<00:00, 231.93it/s]\n",
            "accuracy: 0.8571, loss: 0.5081 ||: 100%|██████████| 12/12 [00:00<00:00, 420.37it/s]\n",
            "accuracy: 0.9059, loss: 0.2607 ||: 100%|██████████| 281/281 [00:01<00:00, 233.16it/s]\n",
            "accuracy: 0.8612, loss: 0.5106 ||: 100%|██████████| 12/12 [00:00<00:00, 427.86it/s]\n",
            "accuracy: 0.9066, loss: 0.2584 ||: 100%|██████████| 281/281 [00:01<00:00, 228.98it/s]\n",
            "accuracy: 0.8612, loss: 0.5126 ||: 100%|██████████| 12/12 [00:00<00:00, 429.79it/s]\n",
            "accuracy: 0.9075, loss: 0.2553 ||: 100%|██████████| 281/281 [00:01<00:00, 235.19it/s]\n",
            "accuracy: 0.8592, loss: 0.4992 ||: 100%|██████████| 12/12 [00:00<00:00, 430.12it/s]\n",
            "accuracy: 0.9082, loss: 0.2526 ||: 100%|██████████| 281/281 [00:01<00:00, 238.11it/s]\n",
            "accuracy: 0.8592, loss: 0.4899 ||: 100%|██████████| 12/12 [00:00<00:00, 418.26it/s]\n",
            "accuracy: 0.9103, loss: 0.2504 ||: 100%|██████████| 281/281 [00:01<00:00, 232.04it/s]\n",
            "accuracy: 0.8633, loss: 0.4943 ||: 100%|██████████| 12/12 [00:00<00:00, 441.60it/s]\n",
            "accuracy: 0.9123, loss: 0.2477 ||: 100%|██████████| 281/281 [00:01<00:00, 234.04it/s]\n",
            "accuracy: 0.8592, loss: 0.4976 ||: 100%|██████████| 12/12 [00:00<00:00, 441.65it/s]\n",
            "accuracy: 0.9118, loss: 0.2457 ||: 100%|██████████| 281/281 [00:01<00:00, 231.81it/s]\n",
            "accuracy: 0.8633, loss: 0.4746 ||: 100%|██████████| 12/12 [00:00<00:00, 401.45it/s]\n",
            "accuracy: 0.9136, loss: 0.2423 ||: 100%|██████████| 281/281 [00:01<00:00, 234.85it/s]\n",
            "accuracy: 0.8653, loss: 0.4753 ||: 100%|██████████| 12/12 [00:00<00:00, 433.50it/s]\n",
            "accuracy: 0.9134, loss: 0.2403 ||: 100%|██████████| 281/281 [00:01<00:00, 236.20it/s]\n",
            "accuracy: 0.8612, loss: 0.4742 ||: 100%|██████████| 12/12 [00:00<00:00, 416.28it/s]\n",
            "accuracy: 0.9155, loss: 0.2383 ||: 100%|██████████| 281/281 [00:01<00:00, 237.36it/s]\n",
            "accuracy: 0.8633, loss: 0.4771 ||: 100%|██████████| 12/12 [00:00<00:00, 450.06it/s]\n",
            "accuracy: 0.9143, loss: 0.2362 ||: 100%|██████████| 281/281 [00:01<00:00, 237.57it/s]\n",
            "accuracy: 0.8612, loss: 0.4701 ||: 100%|██████████| 12/12 [00:00<00:00, 436.15it/s]\n",
            "accuracy: 0.9165, loss: 0.2334 ||: 100%|██████████| 281/281 [00:01<00:00, 236.81it/s]\n",
            "accuracy: 0.8673, loss: 0.4659 ||: 100%|██████████| 12/12 [00:00<00:00, 442.95it/s]\n",
            "accuracy: 0.9164, loss: 0.2316 ||: 100%|██████████| 281/281 [00:01<00:00, 243.54it/s]\n",
            "accuracy: 0.8673, loss: 0.4579 ||: 100%|██████████| 12/12 [00:00<00:00, 432.06it/s]\n",
            "accuracy: 0.9172, loss: 0.2286 ||: 100%|██████████| 281/281 [00:01<00:00, 242.12it/s]\n",
            "accuracy: 0.8673, loss: 0.4551 ||: 100%|██████████| 12/12 [00:00<00:00, 415.52it/s]\n",
            "accuracy: 0.9151, loss: 0.2276 ||: 100%|██████████| 281/281 [00:01<00:00, 237.54it/s]\n",
            "accuracy: 0.8653, loss: 0.4578 ||: 100%|██████████| 12/12 [00:00<00:00, 419.21it/s]\n",
            "accuracy: 0.9183, loss: 0.2262 ||: 100%|██████████| 281/281 [00:01<00:00, 240.21it/s]\n",
            "accuracy: 0.8694, loss: 0.4391 ||: 100%|██████████| 12/12 [00:00<00:00, 404.98it/s]\n",
            "accuracy: 0.9172, loss: 0.2234 ||: 100%|██████████| 281/281 [00:01<00:00, 238.83it/s]\n",
            "accuracy: 0.8673, loss: 0.4467 ||: 100%|██████████| 12/12 [00:00<00:00, 452.48it/s]\n",
            "accuracy: 0.9189, loss: 0.2208 ||: 100%|██████████| 281/281 [00:01<00:00, 235.31it/s]\n",
            "accuracy: 0.8755, loss: 0.4307 ||: 100%|██████████| 12/12 [00:00<00:00, 397.32it/s]\n",
            "accuracy: 0.9194, loss: 0.2196 ||: 100%|██████████| 281/281 [00:01<00:00, 234.93it/s]\n",
            "accuracy: 0.8714, loss: 0.4258 ||: 100%|██████████| 12/12 [00:00<00:00, 440.09it/s]\n",
            "accuracy: 0.9188, loss: 0.2176 ||: 100%|██████████| 281/281 [00:01<00:00, 230.90it/s]\n",
            "accuracy: 0.8755, loss: 0.4199 ||: 100%|██████████| 12/12 [00:00<00:00, 417.44it/s]\n",
            "accuracy: 0.9198, loss: 0.2160 ||: 100%|██████████| 281/281 [00:01<00:00, 233.93it/s]\n",
            "accuracy: 0.8735, loss: 0.4145 ||: 100%|██████████| 12/12 [00:00<00:00, 435.53it/s]\n",
            "accuracy: 0.9184, loss: 0.2143 ||: 100%|██████████| 281/281 [00:01<00:00, 228.32it/s]\n",
            "accuracy: 0.8714, loss: 0.4203 ||: 100%|██████████| 12/12 [00:00<00:00, 410.83it/s]\n",
            "accuracy: 0.9203, loss: 0.2119 ||: 100%|██████████| 281/281 [00:01<00:00, 229.80it/s]\n",
            "accuracy: 0.8755, loss: 0.4168 ||: 100%|██████████| 12/12 [00:00<00:00, 408.00it/s]\n",
            "accuracy: 0.9206, loss: 0.2101 ||: 100%|██████████| 281/281 [00:01<00:00, 223.62it/s]\n",
            "accuracy: 0.8755, loss: 0.4059 ||: 100%|██████████| 12/12 [00:00<00:00, 410.43it/s]\n",
            "accuracy: 0.9218, loss: 0.2073 ||: 100%|██████████| 281/281 [00:01<00:00, 227.41it/s]\n",
            "accuracy: 0.8735, loss: 0.4048 ||: 100%|██████████| 12/12 [00:00<00:00, 438.84it/s]\n",
            "accuracy: 0.9200, loss: 0.2065 ||: 100%|██████████| 281/281 [00:01<00:00, 236.19it/s]\n",
            "accuracy: 0.8755, loss: 0.4036 ||: 100%|██████████| 12/12 [00:00<00:00, 415.11it/s]\n",
            "accuracy: 0.9211, loss: 0.2053 ||: 100%|██████████| 281/281 [00:01<00:00, 236.62it/s]\n",
            "accuracy: 0.8796, loss: 0.3944 ||: 100%|██████████| 12/12 [00:00<00:00, 399.74it/s]\n",
            "accuracy: 0.9224, loss: 0.2025 ||: 100%|██████████| 281/281 [00:01<00:00, 241.48it/s]\n",
            "accuracy: 0.8776, loss: 0.4006 ||: 100%|██████████| 12/12 [00:00<00:00, 447.42it/s]\n",
            "accuracy: 0.9231, loss: 0.2029 ||: 100%|██████████| 281/281 [00:01<00:00, 243.76it/s]\n",
            "accuracy: 0.8755, loss: 0.4041 ||: 100%|██████████| 12/12 [00:00<00:00, 416.38it/s]\n",
            "accuracy: 0.9219, loss: 0.2004 ||: 100%|██████████| 281/281 [00:01<00:00, 241.18it/s]\n",
            "accuracy: 0.8796, loss: 0.3818 ||: 100%|██████████| 12/12 [00:00<00:00, 411.91it/s]\n",
            "accuracy: 0.9246, loss: 0.1975 ||: 100%|██████████| 281/281 [00:01<00:00, 241.20it/s]\n",
            "accuracy: 0.8776, loss: 0.3837 ||: 100%|██████████| 12/12 [00:00<00:00, 445.83it/s]\n",
            "accuracy: 0.9238, loss: 0.1962 ||: 100%|██████████| 281/281 [00:01<00:00, 236.79it/s]\n",
            "accuracy: 0.8796, loss: 0.3795 ||: 100%|██████████| 12/12 [00:00<00:00, 373.23it/s]\n",
            "accuracy: 0.9249, loss: 0.1937 ||: 100%|██████████| 281/281 [00:01<00:00, 240.39it/s]\n",
            "accuracy: 0.8837, loss: 0.3749 ||: 100%|██████████| 12/12 [00:00<00:00, 429.61it/s]\n",
            "accuracy: 0.9249, loss: 0.1946 ||: 100%|██████████| 281/281 [00:01<00:00, 230.88it/s]\n",
            "accuracy: 0.8776, loss: 0.3850 ||: 100%|██████████| 12/12 [00:00<00:00, 415.54it/s]\n",
            "accuracy: 0.9254, loss: 0.1910 ||: 100%|██████████| 281/281 [00:01<00:00, 237.50it/s]\n",
            "accuracy: 0.8857, loss: 0.3775 ||: 100%|██████████| 12/12 [00:00<00:00, 445.74it/s]\n"
          ],
          "name": "stderr"
        },
        {
          "output_type": "execute_result",
          "data": {
            "text/plain": [
              "{'best_epoch': 97,\n",
              " 'best_validation_accuracy': 0.8836734693877552,\n",
              " 'best_validation_loss': 0.3748530295755093,\n",
              " 'epoch': 99,\n",
              " 'peak_cpu_memory_MB': 2581.78,\n",
              " 'peak_gpu_0_memory_MB': 541,\n",
              " 'training_accuracy': 0.9254316280055079,\n",
              " 'training_cpu_memory_MB': 2581.78,\n",
              " 'training_duration': '0:02:12.285357',\n",
              " 'training_epochs': 99,\n",
              " 'training_gpu_0_memory_MB': 541,\n",
              " 'training_loss': 0.190999528737631,\n",
              " 'training_start_epoch': 0,\n",
              " 'validation_accuracy': 0.8857142857142857,\n",
              " 'validation_loss': 0.37749714218080044}"
            ]
          },
          "metadata": {
            "tags": []
          },
          "execution_count": 7
        }
      ]
    },
    {
      "cell_type": "markdown",
      "metadata": {
        "id": "mwN6ctqVV0tf",
        "colab_type": "text"
      },
      "source": [
        "## Evaluation"
      ]
    },
    {
      "cell_type": "markdown",
      "metadata": {
        "id": "qkDs_UdIeuFz",
        "colab_type": "text"
      },
      "source": [
        "The simple code below creators a `predictor` object that applies the model to an input example and then loops over the examples in the validation set, printing out the input token, gold-standard output, and model output. You can see from these methods how to access data and model outputs for evaluation."
      ]
    },
    {
      "cell_type": "code",
      "metadata": {
        "id": "S0bE4fmLik08",
        "colab_type": "code",
        "colab": {}
      },
      "source": [
        "predictor = SentenceTaggerPredictor(model, dataset_reader=reader)\n",
        "\n",
        "def tag_sentence(s):\n",
        "  tag_ids = np.argmax(predictor.predict_instance(s)['tag_logits'], axis=-1)\n",
        "  fields = zip(s['tokens'], s['tags'], [model.vocab.get_token_from_index(i, 'labels') for i in tag_ids])\n",
        "  return list(fields)\n",
        "\n",
        "baseline_output = [tag_sentence(i) for i in validation_dataset]"
      ],
      "execution_count": 0,
      "outputs": []
    },
    {
      "cell_type": "markdown",
      "metadata": {
        "id": "BpYMx7RVfCyT",
        "colab_type": "text"
      },
      "source": [
        "Now, you can implement two evaluation functions: `violations` and `span_stats`."
      ]
    },
    {
      "cell_type": "code",
      "metadata": {
        "id": "P042A2Ofg3wa",
        "colab_type": "code",
        "colab": {}
      },
      "source": [
        "# TODO: count the number of NER label violations,\n",
        "# such as O followed by I-TYPE or B-TYPE followed by\n",
        "# I-OTHER_TYPE\n",
        "# Take tagger output as input\n",
        "def violations(tagged):\n",
        "  return count\n",
        "\n",
        "# TODO: return the span-level precision, recall, and F1\n",
        "# Take tagger output as input\n",
        "def span_stats(tagged):\n",
        "  return {'precision': precision,\n",
        "          'recall': recall,\n",
        "          'f1': f1}\n",
        "\n",
        "## You can check how many violations are made by the model output in predictor.\n",
        "violations(baseline_output)"
      ],
      "execution_count": 0,
      "outputs": []
    },
    {
      "cell_type": "markdown",
      "metadata": {
        "id": "fX7-quD2hnzB",
        "colab_type": "text"
      },
      "source": [
        "## Decoding"
      ]
    },
    {
      "cell_type": "markdown",
      "metadata": {
        "id": "WCgW9d9ohsGv",
        "colab_type": "text"
      },
      "source": [
        "Now you can finally implement the simple Viterbi decoder. The `predictor` object, when applied to an input sentence, first calculates the scores for each possible output tag for each token. See the line `predictor.predict_instance(i)['tag_logits']` in the code above.\n",
        "\n",
        "Then, you will construct a transition matrix. You can use the code below to get a list of the tags the model knows about. For a set of K tags, construct a K-by-K matrix with a log(1)=0 when a transition between a given tag pair is valid and a log(0)=-infinity otherwise.\n",
        "\n",
        "Finally, implement a Viterbi decoder that takes the predictor object and a dataset object and outputs tagged data, just like the `tag_sentence` function above. It should use the Viterbi algorithm with the (max, plus) semiring. You'll be working with sums of log probabilities instead of products of probabilties.\n",
        "\n",
        "Run your `violations` function on the output of this decoder to make sure that there are no invalid tag transitions. Also, compare the span-level metrics on `baseline_output` and your new output using your `span_stats` function."
      ]
    },
    {
      "cell_type": "code",
      "metadata": {
        "id": "nlP8vZhiS68K",
        "colab_type": "code",
        "colab": {
          "base_uri": "https://localhost:8080/",
          "height": 54
        },
        "outputId": "7c3fe605-6618-41b3-d62c-e3a7cdcfba52"
      },
      "source": [
        "# This code show how to map from output vector components to labels\n",
        "print(vocab.get_index_to_token_vocabulary('labels'))\n",
        "\n"
      ],
      "execution_count": 13,
      "outputs": [
        {
          "output_type": "stream",
          "text": [
            "{0: 'O', 1: 'B-GPE', 2: 'I-ORG', 3: 'I-DATE', 4: 'B-CARDINAL', 5: 'I-EVENT', 6: 'B-PERSON', 7: 'B-NORP', 8: 'B-DATE', 9: 'B-ORG', 10: 'B-LOC', 11: 'I-LOC', 12: 'I-FAC', 13: 'I-PERSON', 14: 'I-GPE', 15: 'I-CARDINAL', 16: 'B-EVENT', 17: 'I-TIME', 18: 'I-WORK_OF_ART', 19: 'B-ORDINAL', 20: 'B-FAC', 21: 'B-TIME', 22: 'I-LAW', 23: 'I-QUANTITY', 24: 'I-NORP', 25: 'I-MONEY', 26: 'B-MONEY', 27: 'B-WORK_OF_ART', 28: 'B-QUANTITY', 29: 'B-LAW', 30: 'B-PRODUCT', 31: 'I-PRODUCT', 32: 'B-PERCENT', 33: 'I-PERCENT'}\n"
          ],
          "name": "stdout"
        }
      ]
    }
  ]
}